{
 "cells": [
  {
   "cell_type": "code",
   "execution_count": 1,
   "metadata": {},
   "outputs": [],
   "source": [
    "from sql import csv_data\n",
    "import os.path"
   ]
  },
  {
   "cell_type": "code",
   "execution_count": 2,
   "metadata": {},
   "outputs": [],
   "source": [
    "tables={\n",
    "'post_writer_initiate':[\n",
    "'user_id',\n",
    "'post_id',\n",
    "'category_id',\n",
    "'age',\n",
    "'gender',\n",
    "'occupation']\n",
    ",\n",
    "'post_tfidf':['post_id',\n",
    "'tfidf_0',\n",
    "'tfidf_1',\n",
    "'tfidf_2',\n",
    "'tfidf_3',\n",
    "'tfidf_4',\n",
    "'tfidf_5',\n",
    "'tfidf_6',\n",
    "'tfidf_7',\n",
    "'tfidf_8',\n",
    "'tfidf_9',\n",
    "'tfidf_10',\n",
    "'tfidf_11',\n",
    "'tfidf_12',\n",
    "'tfidf_13',\n",
    "'tfidf_14',\n",
    "'tfidf_15',\n",
    "'tfidf_16',\n",
    "'tfidf_17',\n",
    "'tfidf_18',\n",
    "'tfidf_19']\n",
    ",\n",
    "'post':['post_id',\n",
    "'title',\n",
    "'content',\n",
    "'age',\n",
    "'post_date',\n",
    "'tag_id',\n",
    "'anonymous',\n",
    "'good',\n",
    "'impossible',\n",
    "'early',]}"
   ]
  },
  {
   "cell_type": "code",
   "execution_count": 10,
   "metadata": {},
   "outputs": [],
   "source": [
    "tables={'url':['url_id',\n",
    "'url',\n",
    "'category',\n",
    "'user_id',\n",
    "'post_id']}"
   ]
  },
  {
   "cell_type": "code",
   "execution_count": 12,
   "metadata": {},
   "outputs": [],
   "source": [
    "f=csv_data.CSVData('final_intergrated_text_for_DB.csv')\n",
    "handlingdata={}\n",
    "for table in tables:\n",
    "    handlingdata.update({table:[]})\n",
    "    \n",
    "for row in f.csv_rows():\n",
    "    for table in tables:\n",
    "        data={}\n",
    "        for key in tables[table]:\n",
    "            if key==\"category_id\":\n",
    "                data[key]=row[\"tag_id\"]\n",
    "            elif key==\"category\":\n",
    "                data[key]=\"post\"\n",
    "            elif key==\"url\":\n",
    "                data[key]=f\"/posts/post_id/{row['id']}\"\n",
    "            elif key==\"url_id\":\n",
    "                data[key]=f\"url{row['id']}\"\n",
    "            elif key==\"good\":\n",
    "                data[key]=0\n",
    "            elif key==\"impossible\":\n",
    "                data[key]=0\n",
    "            elif key==\"early\":\n",
    "                data[key]=0\n",
    "            elif key==\"post_id\":\n",
    "                data[key]=row['id']\n",
    "            elif key not in row:\n",
    "                data[key]=None\n",
    "            else:\n",
    "                data[key]=row[key]\n",
    "        handlingdata[table].append(data)\n",
    "\n"
   ]
  },
  {
   "cell_type": "code",
   "execution_count": 13,
   "metadata": {},
   "outputs": [],
   "source": [
    "for data in handlingdata:\n",
    "    path=os.path.join('sql','data',data+'.csv')\n",
    "    csv_data.CSVData(path).update_csv(header=tables[data],data=handlingdata[data])\n",
    "\n"
   ]
  },
  {
   "cell_type": "code",
   "execution_count": 23,
   "metadata": {},
   "outputs": [],
   "source": [
    "import random\n",
    "f=csv_data.CSVData('final_intergrated_text_for_DB.csv')\n",
    "w=[]\n",
    "for i in f.csv_rows():\n",
    "    p=i.copy()\n",
    "\n",
    "    p.update({\"post_id\":i[\"id\"],\n",
    "              \"good\":0,\n",
    "              \"early\":0,\n",
    "              \"age\":random.randint(20,30),\n",
    "              \"url\":f\"/posts/post_id/{i['id']}\",\n",
    "              })\n",
    "    w.append(p)\n",
    "extend_list=[\"post_id\",\"tag_id\",\"good\",\"early\",\"age\",\"url\"]\n",
    "k=csv_data.CSVData('final_intergrated_text_for_DB2.csv')\n",
    "\n",
    "k.update_csv(header=(list(i.keys())+extend_list),data=w)\n"
   ]
  },
  {
   "cell_type": "code",
   "execution_count": 19,
   "metadata": {},
   "outputs": [
    {
     "data": {
      "text/plain": [
       "dict_keys(['id', 'tag_id', 'tag', 'post_date', 'title', 'anonymous', 'kmeans', 'content', 'user_id', 'username', 'displayed_name', 'certified', 'tfidf_0', 'tfidf_1', 'tfidf_2', 'tfidf_3', 'tfidf_4', 'tfidf_5', 'tfidf_6', 'tfidf_7', 'tfidf_8', 'tfidf_9', 'tfidf_10', 'tfidf_11', 'tfidf_12', 'tfidf_13', 'tfidf_14', 'tfidf_15', 'tfidf_16', 'tfidf_17', 'tfidf_18', 'tfidf_19', 'post_id', 'good', 'early', 'age', 'url'])"
      ]
     },
     "execution_count": 19,
     "metadata": {},
     "output_type": "execute_result"
    }
   ],
   "source": [
    "i.keys()"
   ]
  }
 ],
 "metadata": {
  "kernelspec": {
   "display_name": "base",
   "language": "python",
   "name": "python3"
  },
  "language_info": {
   "codemirror_mode": {
    "name": "ipython",
    "version": 3
   },
   "file_extension": ".py",
   "mimetype": "text/x-python",
   "name": "python",
   "nbconvert_exporter": "python",
   "pygments_lexer": "ipython3",
   "version": "3.9.17"
  }
 },
 "nbformat": 4,
 "nbformat_minor": 2
}
